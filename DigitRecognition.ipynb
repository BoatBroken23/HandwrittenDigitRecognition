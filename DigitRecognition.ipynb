{
  "nbformat": 4,
  "nbformat_minor": 0,
  "metadata": {
    "colab": {
      "name": "DigitRecognition.ipynb",
      "provenance": [],
      "collapsed_sections": [],
      "authorship_tag": "ABX9TyN/Zpbf3m0HMG7D91DogAAu"
    },
    "kernelspec": {
      "name": "python3",
      "display_name": "Python 3"
    },
    "language_info": {
      "name": "python"
    }
  },
  "cells": [
    {
      "cell_type": "code",
      "metadata": {
        "id": "2s8_JPRLXa0T"
      },
      "source": [
        "# import dependencies\n",
        "import tensorflow as tf\n",
        "import numpy as np\n",
        "import matplotlib.pyplot as plt"
      ],
      "execution_count": null,
      "outputs": []
    },
    {
      "cell_type": "code",
      "metadata": {
        "colab": {
          "base_uri": "https://localhost:8080/"
        },
        "id": "HyeRG9ljXcBp",
        "outputId": "fdd2db00-4d55-46af-b996-421d121dc70c"
      },
      "source": [
        "# load in the MNIST data\n",
        "(x_train, y_train), (x_test, y_test) = tf.keras.datasets.mnist.load_data()"
      ],
      "execution_count": null,
      "outputs": [
        {
          "output_type": "stream",
          "text": [
            "Downloading data from https://storage.googleapis.com/tensorflow/tf-keras-datasets/mnist.npz\n",
            "11493376/11490434 [==============================] - 0s 0us/step\n"
          ],
          "name": "stdout"
        }
      ]
    },
    {
      "cell_type": "code",
      "metadata": {
        "id": "lK6xw2AOXfGj"
      },
      "source": [
        "# preprocessing of MNIST data\n",
        "x_train = x_train.astype('float32') / 255\n",
        "x_test = x_test.astype('float32') / 255\n",
        "x_train = tf.keras.utils.normalize(x_train, axis=1)\n",
        "x_test = tf.keras.utils.normalize(x_test, axis=1)"
      ],
      "execution_count": null,
      "outputs": []
    },
    {
      "cell_type": "code",
      "metadata": {
        "colab": {
          "base_uri": "https://localhost:8080/"
        },
        "id": "lK1X2QqxXip4",
        "outputId": "f31bb64d-9acd-4bea-a784-297b31e07a2b"
      },
      "source": [
        "# Create a CNN\n",
        "model = tf.keras.Sequential([\n",
        "    tf.keras.layers.Conv2D(filters=64,kernel_size=(4,4),strides=(1,1), input_shape=(28,28,1),activation='relu'),\n",
        "    tf.keras.layers.MaxPool2D(pool_size=(2,2)),\n",
        "    tf.keras.layers.Conv2D(filters=64,kernel_size=(4,4),strides=(1,1), input_shape=(28,28,1),activation='relu'),\n",
        "    tf.keras.layers.MaxPool2D(pool_size=(2,2)),\n",
        "    tf.keras.layers.Dropout(0.3),\n",
        "    tf.keras.layers.Flatten(),\n",
        "    tf.keras.layers.Dense(256, activation = \"relu\"),\n",
        "    tf.keras.layers.Dropout(0.5),\n",
        "    tf.keras.layers.Dense(10, activation = \"softmax\")\n",
        "])\n",
        "model.summary()"
      ],
      "execution_count": null,
      "outputs": [
        {
          "output_type": "stream",
          "text": [
            "Model: \"sequential\"\n",
            "_________________________________________________________________\n",
            "Layer (type)                 Output Shape              Param #   \n",
            "=================================================================\n",
            "conv2d (Conv2D)              (None, 25, 25, 64)        1088      \n",
            "_________________________________________________________________\n",
            "max_pooling2d (MaxPooling2D) (None, 12, 12, 64)        0         \n",
            "_________________________________________________________________\n",
            "conv2d_1 (Conv2D)            (None, 9, 9, 64)          65600     \n",
            "_________________________________________________________________\n",
            "max_pooling2d_1 (MaxPooling2 (None, 4, 4, 64)          0         \n",
            "_________________________________________________________________\n",
            "dropout (Dropout)            (None, 4, 4, 64)          0         \n",
            "_________________________________________________________________\n",
            "flatten (Flatten)            (None, 1024)              0         \n",
            "_________________________________________________________________\n",
            "dense (Dense)                (None, 256)               262400    \n",
            "_________________________________________________________________\n",
            "dropout_1 (Dropout)          (None, 256)               0         \n",
            "_________________________________________________________________\n",
            "dense_1 (Dense)              (None, 10)                2570      \n",
            "=================================================================\n",
            "Total params: 331,658\n",
            "Trainable params: 331,658\n",
            "Non-trainable params: 0\n",
            "_________________________________________________________________\n"
          ],
          "name": "stdout"
        }
      ]
    },
    {
      "cell_type": "code",
      "metadata": {
        "id": "QrutdfgZX_ug"
      },
      "source": [
        "# Compile the model\n",
        "model.compile(loss='sparse_categorical_crossentropy',\n",
        "             optimizer='adam',\n",
        "             metrics=['accuracy'])"
      ],
      "execution_count": null,
      "outputs": []
    },
    {
      "cell_type": "code",
      "metadata": {
        "colab": {
          "base_uri": "https://localhost:8080/"
        },
        "id": "jq-ECSDdYBnQ",
        "outputId": "ae7419bf-c14f-47b7-f773-4e3455a236d5"
      },
      "source": [
        "# preprocess the data and train the model for 10 epochs\n",
        "x_train = x_train.reshape(-1,28, 28,1)\n",
        "x_test = x_test.reshape(-1,28, 28, 1)\n",
        "log=model.fit(x_train, y_train,\n",
        "          batch_size=60,\n",
        "          epochs=10,\n",
        "          verbose=1,\n",
        "          validation_split=.3)"
      ],
      "execution_count": null,
      "outputs": [
        {
          "output_type": "stream",
          "text": [
            "Epoch 1/10\n",
            "700/700 [==============================] - 76s 108ms/step - loss: 0.2461 - accuracy: 0.9226 - val_loss: 0.0635 - val_accuracy: 0.9806\n",
            "Epoch 2/10\n",
            "700/700 [==============================] - 75s 107ms/step - loss: 0.0830 - accuracy: 0.9743 - val_loss: 0.0442 - val_accuracy: 0.9868\n",
            "Epoch 3/10\n",
            "700/700 [==============================] - 75s 108ms/step - loss: 0.0611 - accuracy: 0.9811 - val_loss: 0.0368 - val_accuracy: 0.9889\n",
            "Epoch 4/10\n",
            "700/700 [==============================] - 75s 107ms/step - loss: 0.0499 - accuracy: 0.9844 - val_loss: 0.0382 - val_accuracy: 0.9882\n",
            "Epoch 5/10\n",
            "700/700 [==============================] - 75s 107ms/step - loss: 0.0428 - accuracy: 0.9861 - val_loss: 0.0343 - val_accuracy: 0.9894\n",
            "Epoch 6/10\n",
            "700/700 [==============================] - 75s 107ms/step - loss: 0.0385 - accuracy: 0.9886 - val_loss: 0.0341 - val_accuracy: 0.9897\n",
            "Epoch 7/10\n",
            "700/700 [==============================] - 75s 107ms/step - loss: 0.0346 - accuracy: 0.9892 - val_loss: 0.0327 - val_accuracy: 0.9910\n",
            "Epoch 8/10\n",
            "700/700 [==============================] - 75s 107ms/step - loss: 0.0321 - accuracy: 0.9903 - val_loss: 0.0327 - val_accuracy: 0.9904\n",
            "Epoch 9/10\n",
            "700/700 [==============================] - 75s 107ms/step - loss: 0.0268 - accuracy: 0.9914 - val_loss: 0.0320 - val_accuracy: 0.9911\n",
            "Epoch 10/10\n",
            "700/700 [==============================] - 75s 107ms/step - loss: 0.0269 - accuracy: 0.9919 - val_loss: 0.0312 - val_accuracy: 0.9913\n"
          ],
          "name": "stdout"
        }
      ]
    },
    {
      "cell_type": "code",
      "metadata": {
        "colab": {
          "base_uri": "https://localhost:8080/"
        },
        "id": "5pmthsH3aZ4S",
        "outputId": "235c7720-6c79-4cc1-ea34-8909a24dc050"
      },
      "source": [
        "# save the model into a file\n",
        "model.save('m.model')\n",
        "print(\"Model saved!\")"
      ],
      "execution_count": null,
      "outputs": [
        {
          "output_type": "stream",
          "text": [
            "INFO:tensorflow:Assets written to: m.model/assets\n",
            "Model saved!\n"
          ],
          "name": "stdout"
        }
      ]
    },
    {
      "cell_type": "code",
      "metadata": {
        "id": "u9jIW_pSbWp1"
      },
      "source": [
        "# load in the model\n",
        "model = tf.keras.models.load_model('m.model')\n",
        "print(x_test)"
      ],
      "execution_count": null,
      "outputs": []
    },
    {
      "cell_type": "code",
      "metadata": {
        "colab": {
          "base_uri": "https://localhost:8080/",
          "height": 282
        },
        "id": "tsHCIr5scb4-",
        "outputId": "68f8851a-65e5-49a5-e5f3-1d6a45eec7f1"
      },
      "source": [
        "# Test the model\n",
        "%matplotlib inline\n",
        "import matplotlib.pyplot as plt\n",
        "\n",
        "x_test = tf.keras.utils.normalize(x_test, axis=1) \n",
        "image = x_test[:1]\n",
        "predictions = model.predict(image) \n",
        "t = (np.argmax(predictions[0])) \n",
        "print(\"I predict this number is a:\", t)\n",
        "plt.imshow(image[0].reshape(28, 28), cmap=plt.cm.binary)\n",
        "plt.show()"
      ],
      "execution_count": null,
      "outputs": [
        {
          "output_type": "stream",
          "text": [
            "I predict this number is a: 7\n"
          ],
          "name": "stdout"
        },
        {
          "output_type": "display_data",
          "data": {
            "image/png": "[encoded data removed]",
            "text/plain": [
              "<Figure size 432x288 with 1 Axes>"
            ]
          },
          "metadata": {
            "tags": [],
            "needs_background": "light"
          }
        }
      ]
    }
  ]
}